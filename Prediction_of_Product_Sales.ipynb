{
  "cells": [
    {
      "cell_type": "markdown",
      "metadata": {
        "id": "view-in-github",
        "colab_type": "text"
      },
      "source": [
        "<a href=\"https://colab.research.google.com/github/AhmedAlamoudi7/Prediction-of-Product-Sales/blob/main/Prediction_of_Product_Sales.ipynb\" target=\"_parent\"><img src=\"https://colab.research.google.com/assets/colab-badge.svg\" alt=\"Open In Colab\"/></a>"
      ]
    },
    {
      "cell_type": "markdown",
      "id": "0da2d8ca",
      "metadata": {
        "id": "0da2d8ca"
      },
      "source": [
        "# Project Title: Prediction of Product Sales"
      ]
    },
    {
      "cell_type": "markdown",
      "id": "8365ac87",
      "metadata": {
        "id": "8365ac87"
      },
      "source": [
        "- Author: Ahmed Alamoudi"
      ]
    },
    {
      "cell_type": "markdown",
      "source": [
        "## Project Overview\n"
      ],
      "metadata": {
        "id": "3YuHF1CRm68e"
      },
      "id": "3YuHF1CRm68e"
    },
    {
      "cell_type": "code",
      "source": [],
      "metadata": {
        "id": "izXBFicjm3mG"
      },
      "id": "izXBFicjm3mG",
      "execution_count": null,
      "outputs": []
    },
    {
      "cell_type": "code",
      "execution_count": null,
      "id": "34aa020e",
      "metadata": {
        "id": "34aa020e"
      },
      "outputs": [],
      "source": [
        "# TODO: Write project overview here"
      ]
    },
    {
      "cell_type": "markdown",
      "id": "d67dd60d",
      "metadata": {
        "id": "d67dd60d"
      },
      "source": [
        "## Load and Inspect Data"
      ]
    },
    {
      "cell_type": "code",
      "execution_count": null,
      "id": "2811353e",
      "metadata": {
        "id": "2811353e"
      },
      "outputs": [],
      "source": [
        "# TODO: Load your data here"
      ]
    },
    {
      "cell_type": "markdown",
      "id": "4f70184d",
      "metadata": {
        "id": "4f70184d"
      },
      "source": [
        "## Clean Data"
      ]
    },
    {
      "cell_type": "code",
      "execution_count": null,
      "id": "d4066c47",
      "metadata": {
        "id": "d4066c47"
      },
      "outputs": [],
      "source": [
        "# TODO: Clean your data here"
      ]
    },
    {
      "cell_type": "markdown",
      "id": "be2dc9c5",
      "metadata": {
        "id": "be2dc9c5"
      },
      "source": [
        "## Exploratory Data Analysis"
      ]
    },
    {
      "cell_type": "code",
      "execution_count": null,
      "id": "5ee5baf2",
      "metadata": {
        "id": "5ee5baf2"
      },
      "outputs": [],
      "source": [
        "# TODO: Perform EDA here"
      ]
    },
    {
      "cell_type": "markdown",
      "id": "acec5098",
      "metadata": {
        "id": "acec5098"
      },
      "source": [
        "## Feature Inspection"
      ]
    },
    {
      "cell_type": "code",
      "execution_count": null,
      "id": "bdc117a3",
      "metadata": {
        "id": "bdc117a3"
      },
      "outputs": [],
      "source": [
        "# TODO: Inspect features"
      ]
    }
  ],
  "metadata": {
    "colab": {
      "provenance": [],
      "include_colab_link": true
    }
  },
  "nbformat": 4,
  "nbformat_minor": 5
}